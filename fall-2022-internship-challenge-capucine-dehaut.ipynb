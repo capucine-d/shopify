{
 "cells": [
  {
   "cell_type": "markdown",
   "id": "recognized-excellence",
   "metadata": {},
   "source": [
    "# Fall 2022 Data Science Intern Challenge - Shopify"
   ]
  },
  {
   "cell_type": "markdown",
   "id": "confirmed-survival",
   "metadata": {},
   "source": [
    "## Question 1"
   ]
  },
  {
   "cell_type": "markdown",
   "id": "explicit-cutting",
   "metadata": {},
   "source": [
    "Given some sample data, write a program to answer the following:\n",
    "> On Shopify, we have exactly 100 sneaker shops, and each of these shops sells only one model of shoe. We want to do some analysis of the average order value (AOV). When we look at orders data over a 30 day window, we naively calculate an AOV of $3145.13. Given that we know these shops are selling sneakers, a relatively affordable item, something seems wrong with our analysis. \n",
    "> - Think about what could be going wrong with our calculation. Think about a better way to evaluate this data. \n",
    "> - What metric would you report for this dataset?\n",
    "> - What is its value?\n"
   ]
  },
  {
   "cell_type": "markdown",
   "id": "metric-organ",
   "metadata": {},
   "source": [
    "### Upload and clean the data"
   ]
  },
  {
   "cell_type": "markdown",
   "id": "environmental-greece",
   "metadata": {},
   "source": [
    "First, let's import useful packages:"
   ]
  },
  {
   "cell_type": "code",
   "execution_count": 1,
   "id": "skilled-education",
   "metadata": {
    "ExecuteTime": {
     "end_time": "2022-05-18T21:59:10.691122Z",
     "start_time": "2022-05-18T21:59:08.937186Z"
    }
   },
   "outputs": [],
   "source": [
    "# Linear algebra\n",
    "import pandas as pd\n",
    "import numpy as np\n",
    "\n",
    "# Data visualization\n",
    "import matplotlib.pyplot as plt\n",
    "import seaborn as sns\n",
    "\n",
    "# Statistics library\n",
    "from statsmodels.graphics.gofplots import qqplot"
   ]
  },
  {
   "cell_type": "markdown",
   "id": "another-leisure",
   "metadata": {},
   "source": [
    "Then, load and preview the dataset:"
   ]
  },
  {
   "cell_type": "code",
   "execution_count": 2,
   "id": "floral-layer",
   "metadata": {
    "ExecuteTime": {
     "end_time": "2022-05-18T21:59:10.722544Z",
     "start_time": "2022-05-18T21:59:10.694902Z"
    }
   },
   "outputs": [
    {
     "data": {
      "text/html": [
       "<div>\n",
       "<style scoped>\n",
       "    .dataframe tbody tr th:only-of-type {\n",
       "        vertical-align: middle;\n",
       "    }\n",
       "\n",
       "    .dataframe tbody tr th {\n",
       "        vertical-align: top;\n",
       "    }\n",
       "\n",
       "    .dataframe thead th {\n",
       "        text-align: right;\n",
       "    }\n",
       "</style>\n",
       "<table border=\"1\" class=\"dataframe\">\n",
       "  <thead>\n",
       "    <tr style=\"text-align: right;\">\n",
       "      <th></th>\n",
       "      <th>order_id</th>\n",
       "      <th>shop_id</th>\n",
       "      <th>user_id</th>\n",
       "      <th>order_amount</th>\n",
       "      <th>total_items</th>\n",
       "      <th>payment_method</th>\n",
       "      <th>created_at</th>\n",
       "    </tr>\n",
       "  </thead>\n",
       "  <tbody>\n",
       "    <tr>\n",
       "      <th>0</th>\n",
       "      <td>1</td>\n",
       "      <td>53</td>\n",
       "      <td>746</td>\n",
       "      <td>224</td>\n",
       "      <td>2</td>\n",
       "      <td>cash</td>\n",
       "      <td>2017-03-13 12:36:56</td>\n",
       "    </tr>\n",
       "    <tr>\n",
       "      <th>1</th>\n",
       "      <td>2</td>\n",
       "      <td>92</td>\n",
       "      <td>925</td>\n",
       "      <td>90</td>\n",
       "      <td>1</td>\n",
       "      <td>cash</td>\n",
       "      <td>2017-03-03 17:38:52</td>\n",
       "    </tr>\n",
       "    <tr>\n",
       "      <th>2</th>\n",
       "      <td>3</td>\n",
       "      <td>44</td>\n",
       "      <td>861</td>\n",
       "      <td>144</td>\n",
       "      <td>1</td>\n",
       "      <td>cash</td>\n",
       "      <td>2017-03-14 4:23:56</td>\n",
       "    </tr>\n",
       "  </tbody>\n",
       "</table>\n",
       "</div>"
      ],
      "text/plain": [
       "   order_id  shop_id  user_id  order_amount  total_items payment_method  \\\n",
       "0         1       53      746           224            2           cash   \n",
       "1         2       92      925            90            1           cash   \n",
       "2         3       44      861           144            1           cash   \n",
       "\n",
       "            created_at  \n",
       "0  2017-03-13 12:36:56  \n",
       "1  2017-03-03 17:38:52  \n",
       "2   2017-03-14 4:23:56  "
      ]
     },
     "execution_count": 2,
     "metadata": {},
     "output_type": "execute_result"
    }
   ],
   "source": [
    "data = pd.read_csv(\"shopify-internship-challenge-dataset.csv\")\n",
    "data.head(3)"
   ]
  },
  {
   "cell_type": "markdown",
   "id": "several-tourist",
   "metadata": {},
   "source": [
    " "
   ]
  },
  {
   "cell_type": "markdown",
   "id": "unknown-clinic",
   "metadata": {},
   "source": [
    "We can see this dataset provides information about each order, especially the **order_amount** which will be useful to compute the Average Order Value (AOV) we are looking for. "
   ]
  },
  {
   "cell_type": "markdown",
   "id": "passing-rwanda",
   "metadata": {},
   "source": [
    "Before looking at dataset statistics, let's first make sure it doesn't have null or duplicate values:"
   ]
  },
  {
   "cell_type": "code",
   "execution_count": 3,
   "id": "inner-saint",
   "metadata": {
    "ExecuteTime": {
     "end_time": "2022-05-18T21:59:10.737956Z",
     "start_time": "2022-05-18T21:59:10.724701Z"
    }
   },
   "outputs": [
    {
     "data": {
      "text/plain": [
       "created_at        0.0\n",
       "payment_method    0.0\n",
       "total_items       0.0\n",
       "order_amount      0.0\n",
       "user_id           0.0\n",
       "shop_id           0.0\n",
       "order_id          0.0\n",
       "dtype: float64"
      ]
     },
     "execution_count": 3,
     "metadata": {},
     "output_type": "execute_result"
    }
   ],
   "source": [
    "# Null values percentage for each column\n",
    "data.isnull().sum().sort_values(ascending=False)/len(data) "
   ]
  },
  {
   "cell_type": "code",
   "execution_count": 4,
   "id": "talented-fields",
   "metadata": {
    "ExecuteTime": {
     "end_time": "2022-05-18T21:59:10.752175Z",
     "start_time": "2022-05-18T21:59:10.741705Z"
    },
    "scrolled": true
   },
   "outputs": [
    {
     "data": {
      "text/plain": [
       "0"
      ]
     },
     "execution_count": 4,
     "metadata": {},
     "output_type": "execute_result"
    }
   ],
   "source": [
    "data.duplicated().sum() # Number of duplicated rows"
   ]
  },
  {
   "cell_type": "markdown",
   "id": "introductory-poverty",
   "metadata": {},
   "source": [
    "The dataset has no null or duplicated rows, we can start exploring it further."
   ]
  },
  {
   "cell_type": "markdown",
   "id": "vietnamese-still",
   "metadata": {},
   "source": [
    "### Think about what could be going wrong with our calculation. Think about a better way to evaluate this data"
   ]
  },
  {
   "cell_type": "markdown",
   "id": "sonic-currency",
   "metadata": {},
   "source": [
    "Let's take a closer look at the order_amount column:"
   ]
  },
  {
   "cell_type": "code",
   "execution_count": 5,
   "id": "organic-beads",
   "metadata": {
    "ExecuteTime": {
     "end_time": "2022-05-18T21:59:10.767401Z",
     "start_time": "2022-05-18T21:59:10.754848Z"
    },
    "scrolled": true
   },
   "outputs": [
    {
     "data": {
      "text/plain": [
       "count      5000.000000\n",
       "mean       3145.128000\n",
       "std       41282.539349\n",
       "min          90.000000\n",
       "25%         163.000000\n",
       "50%         284.000000\n",
       "75%         390.000000\n",
       "max      704000.000000\n",
       "Name: order_amount, dtype: float64"
      ]
     },
     "execution_count": 5,
     "metadata": {},
     "output_type": "execute_result"
    }
   ],
   "source": [
    "data.order_amount.describe()"
   ]
  },
  {
   "cell_type": "markdown",
   "id": "educated-visitor",
   "metadata": {},
   "source": [
    "- The average order amount is equal to \\$3 145.13 which is exactly the \"naively\" calculated AOV stated in the instructions.  \n",
    "Indeed, it seems pretty expensive when we know orders items are just pairs of shoes (a relatively affordable item)."
   ]
  },
  {
   "cell_type": "markdown",
   "id": "hungry-terminology",
   "metadata": {},
   "source": [
    "\n",
    "- The maximum order_amount is \\$704 000 and the standard deviation is \\\\$41 282.  \n",
    "These are very large numbers, indicating the presence of outliers driving the mean up."
   ]
  },
  {
   "cell_type": "markdown",
   "id": "scenic-pipeline",
   "metadata": {},
   "source": [
    "  \n",
    "- The third quartile shows that 75% of orders amounts fall under \\$390 which sounds more realistic. It is way lower than the mean and the maximum value, indicating that outliers are extremely high values."
   ]
  },
  {
   "cell_type": "markdown",
   "id": "subsequent-suicide",
   "metadata": {
    "ExecuteTime": {
     "end_time": "2022-05-18T23:08:23.217700Z",
     "start_time": "2022-05-18T23:08:23.198766Z"
    }
   },
   "source": [
    "Before taking any decision on removing outliers from the AOV, let's look at the integrity of orders with the maximum value:"
   ]
  },
  {
   "cell_type": "code",
   "execution_count": 18,
   "id": "genuine-sperm",
   "metadata": {
    "ExecuteTime": {
     "end_time": "2022-05-18T23:12:47.155866Z",
     "start_time": "2022-05-18T23:12:47.135077Z"
    }
   },
   "outputs": [
    {
     "data": {
      "text/html": [
       "<div>\n",
       "<style scoped>\n",
       "    .dataframe tbody tr th:only-of-type {\n",
       "        vertical-align: middle;\n",
       "    }\n",
       "\n",
       "    .dataframe tbody tr th {\n",
       "        vertical-align: top;\n",
       "    }\n",
       "\n",
       "    .dataframe thead th {\n",
       "        text-align: right;\n",
       "    }\n",
       "</style>\n",
       "<table border=\"1\" class=\"dataframe\">\n",
       "  <thead>\n",
       "    <tr style=\"text-align: right;\">\n",
       "      <th></th>\n",
       "      <th>index</th>\n",
       "      <th>order_id</th>\n",
       "      <th>shop_id</th>\n",
       "      <th>user_id</th>\n",
       "      <th>order_amount</th>\n",
       "      <th>total_items</th>\n",
       "      <th>payment_method</th>\n",
       "      <th>created_at</th>\n",
       "    </tr>\n",
       "  </thead>\n",
       "  <tbody>\n",
       "    <tr>\n",
       "      <th>0</th>\n",
       "      <td>15</td>\n",
       "      <td>16</td>\n",
       "      <td>42</td>\n",
       "      <td>607</td>\n",
       "      <td>704000</td>\n",
       "      <td>2000</td>\n",
       "      <td>credit_card</td>\n",
       "      <td>2017-03-07 4:00:00</td>\n",
       "    </tr>\n",
       "    <tr>\n",
       "      <th>1</th>\n",
       "      <td>60</td>\n",
       "      <td>61</td>\n",
       "      <td>42</td>\n",
       "      <td>607</td>\n",
       "      <td>704000</td>\n",
       "      <td>2000</td>\n",
       "      <td>credit_card</td>\n",
       "      <td>2017-03-04 4:00:00</td>\n",
       "    </tr>\n",
       "    <tr>\n",
       "      <th>2</th>\n",
       "      <td>520</td>\n",
       "      <td>521</td>\n",
       "      <td>42</td>\n",
       "      <td>607</td>\n",
       "      <td>704000</td>\n",
       "      <td>2000</td>\n",
       "      <td>credit_card</td>\n",
       "      <td>2017-03-02 4:00:00</td>\n",
       "    </tr>\n",
       "    <tr>\n",
       "      <th>3</th>\n",
       "      <td>1104</td>\n",
       "      <td>1105</td>\n",
       "      <td>42</td>\n",
       "      <td>607</td>\n",
       "      <td>704000</td>\n",
       "      <td>2000</td>\n",
       "      <td>credit_card</td>\n",
       "      <td>2017-03-24 4:00:00</td>\n",
       "    </tr>\n",
       "    <tr>\n",
       "      <th>4</th>\n",
       "      <td>1362</td>\n",
       "      <td>1363</td>\n",
       "      <td>42</td>\n",
       "      <td>607</td>\n",
       "      <td>704000</td>\n",
       "      <td>2000</td>\n",
       "      <td>credit_card</td>\n",
       "      <td>2017-03-15 4:00:00</td>\n",
       "    </tr>\n",
       "    <tr>\n",
       "      <th>5</th>\n",
       "      <td>1436</td>\n",
       "      <td>1437</td>\n",
       "      <td>42</td>\n",
       "      <td>607</td>\n",
       "      <td>704000</td>\n",
       "      <td>2000</td>\n",
       "      <td>credit_card</td>\n",
       "      <td>2017-03-11 4:00:00</td>\n",
       "    </tr>\n",
       "    <tr>\n",
       "      <th>6</th>\n",
       "      <td>1562</td>\n",
       "      <td>1563</td>\n",
       "      <td>42</td>\n",
       "      <td>607</td>\n",
       "      <td>704000</td>\n",
       "      <td>2000</td>\n",
       "      <td>credit_card</td>\n",
       "      <td>2017-03-19 4:00:00</td>\n",
       "    </tr>\n",
       "    <tr>\n",
       "      <th>7</th>\n",
       "      <td>1602</td>\n",
       "      <td>1603</td>\n",
       "      <td>42</td>\n",
       "      <td>607</td>\n",
       "      <td>704000</td>\n",
       "      <td>2000</td>\n",
       "      <td>credit_card</td>\n",
       "      <td>2017-03-17 4:00:00</td>\n",
       "    </tr>\n",
       "    <tr>\n",
       "      <th>8</th>\n",
       "      <td>2153</td>\n",
       "      <td>2154</td>\n",
       "      <td>42</td>\n",
       "      <td>607</td>\n",
       "      <td>704000</td>\n",
       "      <td>2000</td>\n",
       "      <td>credit_card</td>\n",
       "      <td>2017-03-12 4:00:00</td>\n",
       "    </tr>\n",
       "    <tr>\n",
       "      <th>9</th>\n",
       "      <td>2297</td>\n",
       "      <td>2298</td>\n",
       "      <td>42</td>\n",
       "      <td>607</td>\n",
       "      <td>704000</td>\n",
       "      <td>2000</td>\n",
       "      <td>credit_card</td>\n",
       "      <td>2017-03-07 4:00:00</td>\n",
       "    </tr>\n",
       "    <tr>\n",
       "      <th>10</th>\n",
       "      <td>2835</td>\n",
       "      <td>2836</td>\n",
       "      <td>42</td>\n",
       "      <td>607</td>\n",
       "      <td>704000</td>\n",
       "      <td>2000</td>\n",
       "      <td>credit_card</td>\n",
       "      <td>2017-03-28 4:00:00</td>\n",
       "    </tr>\n",
       "    <tr>\n",
       "      <th>11</th>\n",
       "      <td>2969</td>\n",
       "      <td>2970</td>\n",
       "      <td>42</td>\n",
       "      <td>607</td>\n",
       "      <td>704000</td>\n",
       "      <td>2000</td>\n",
       "      <td>credit_card</td>\n",
       "      <td>2017-03-28 4:00:00</td>\n",
       "    </tr>\n",
       "    <tr>\n",
       "      <th>12</th>\n",
       "      <td>3332</td>\n",
       "      <td>3333</td>\n",
       "      <td>42</td>\n",
       "      <td>607</td>\n",
       "      <td>704000</td>\n",
       "      <td>2000</td>\n",
       "      <td>credit_card</td>\n",
       "      <td>2017-03-24 4:00:00</td>\n",
       "    </tr>\n",
       "    <tr>\n",
       "      <th>13</th>\n",
       "      <td>4056</td>\n",
       "      <td>4057</td>\n",
       "      <td>42</td>\n",
       "      <td>607</td>\n",
       "      <td>704000</td>\n",
       "      <td>2000</td>\n",
       "      <td>credit_card</td>\n",
       "      <td>2017-03-28 4:00:00</td>\n",
       "    </tr>\n",
       "    <tr>\n",
       "      <th>14</th>\n",
       "      <td>4646</td>\n",
       "      <td>4647</td>\n",
       "      <td>42</td>\n",
       "      <td>607</td>\n",
       "      <td>704000</td>\n",
       "      <td>2000</td>\n",
       "      <td>credit_card</td>\n",
       "      <td>2017-03-02 4:00:00</td>\n",
       "    </tr>\n",
       "    <tr>\n",
       "      <th>15</th>\n",
       "      <td>4868</td>\n",
       "      <td>4869</td>\n",
       "      <td>42</td>\n",
       "      <td>607</td>\n",
       "      <td>704000</td>\n",
       "      <td>2000</td>\n",
       "      <td>credit_card</td>\n",
       "      <td>2017-03-22 4:00:00</td>\n",
       "    </tr>\n",
       "    <tr>\n",
       "      <th>16</th>\n",
       "      <td>4882</td>\n",
       "      <td>4883</td>\n",
       "      <td>42</td>\n",
       "      <td>607</td>\n",
       "      <td>704000</td>\n",
       "      <td>2000</td>\n",
       "      <td>credit_card</td>\n",
       "      <td>2017-03-25 4:00:00</td>\n",
       "    </tr>\n",
       "  </tbody>\n",
       "</table>\n",
       "</div>"
      ],
      "text/plain": [
       "    index  order_id  shop_id  user_id  order_amount  total_items  \\\n",
       "0      15        16       42      607        704000         2000   \n",
       "1      60        61       42      607        704000         2000   \n",
       "2     520       521       42      607        704000         2000   \n",
       "3    1104      1105       42      607        704000         2000   \n",
       "4    1362      1363       42      607        704000         2000   \n",
       "5    1436      1437       42      607        704000         2000   \n",
       "6    1562      1563       42      607        704000         2000   \n",
       "7    1602      1603       42      607        704000         2000   \n",
       "8    2153      2154       42      607        704000         2000   \n",
       "9    2297      2298       42      607        704000         2000   \n",
       "10   2835      2836       42      607        704000         2000   \n",
       "11   2969      2970       42      607        704000         2000   \n",
       "12   3332      3333       42      607        704000         2000   \n",
       "13   4056      4057       42      607        704000         2000   \n",
       "14   4646      4647       42      607        704000         2000   \n",
       "15   4868      4869       42      607        704000         2000   \n",
       "16   4882      4883       42      607        704000         2000   \n",
       "\n",
       "   payment_method          created_at  \n",
       "0     credit_card  2017-03-07 4:00:00  \n",
       "1     credit_card  2017-03-04 4:00:00  \n",
       "2     credit_card  2017-03-02 4:00:00  \n",
       "3     credit_card  2017-03-24 4:00:00  \n",
       "4     credit_card  2017-03-15 4:00:00  \n",
       "5     credit_card  2017-03-11 4:00:00  \n",
       "6     credit_card  2017-03-19 4:00:00  \n",
       "7     credit_card  2017-03-17 4:00:00  \n",
       "8     credit_card  2017-03-12 4:00:00  \n",
       "9     credit_card  2017-03-07 4:00:00  \n",
       "10    credit_card  2017-03-28 4:00:00  \n",
       "11    credit_card  2017-03-28 4:00:00  \n",
       "12    credit_card  2017-03-24 4:00:00  \n",
       "13    credit_card  2017-03-28 4:00:00  \n",
       "14    credit_card  2017-03-02 4:00:00  \n",
       "15    credit_card  2017-03-22 4:00:00  \n",
       "16    credit_card  2017-03-25 4:00:00  "
      ]
     },
     "execution_count": 18,
     "metadata": {},
     "output_type": "execute_result"
    }
   ],
   "source": [
    "maximum_amount_orders = data[data.order_amount == 704000]\n",
    "maximum_amount_orders.reset_index()"
   ]
  },
  {
   "cell_type": "markdown",
   "id": "pleasant-bonus",
   "metadata": {},
   "source": [
    "There are already 17 of them with the maximum amount of \\$704 000. \n",
    "All of them look very similar,  which is suprising on a 30-day window.  \n",
    "They were all created at 4 AM, done by the same user_id 607 on the same shop_id 42.  \n",
    "These elements are good indicators of fraudulent orders that we would need to report to the Fraud or Risk team.  \n",
    "Now with that in mind, let's look into another metric than the mean to get useful insights out of this dataset"
   ]
  },
  {
   "cell_type": "markdown",
   "id": "engaging-landscape",
   "metadata": {},
   "source": [
    "### What metric would you report for this dataset?"
   ]
  },
  {
   "cell_type": "markdown",
   "id": "equipped-graduation",
   "metadata": {},
   "source": [
    "- We need a metric that is robust to outliers.  \n",
    "I would report the median because it takes the middle number in the sorted values, thus not impacted by outliers."
   ]
  },
  {
   "cell_type": "markdown",
   "id": "prerequisite-pitch",
   "metadata": {
    "ExecuteTime": {
     "end_time": "2022-05-17T21:55:20.460963Z",
     "start_time": "2022-05-17T21:55:20.453044Z"
    }
   },
   "source": [
    "### What is its value?"
   ]
  },
  {
   "cell_type": "code",
   "execution_count": 6,
   "id": "technical-slovenia",
   "metadata": {
    "ExecuteTime": {
     "end_time": "2022-05-18T21:59:10.776428Z",
     "start_time": "2022-05-18T21:59:10.769619Z"
    }
   },
   "outputs": [
    {
     "name": "stdout",
     "output_type": "stream",
     "text": [
      "The median order value is 284.\n"
     ]
    }
   ],
   "source": [
    "median_order_value = data.order_amount.median()\n",
    "print(f'The median order value is {int(median_order_value)}.')"
   ]
  },
  {
   "cell_type": "markdown",
   "id": "precious-flexibility",
   "metadata": {},
   "source": [
    "## Question 2"
   ]
  },
  {
   "cell_type": "markdown",
   "id": "removed-squad",
   "metadata": {},
   "source": [
    "Given some sample data, write a program to answer the following:\n",
    "> For this question you’ll need to use SQL. Please use queries to answer the following questions. Paste your queries along with your final numerical answers below.\n",
    "> - How many orders were shipped by Speedy Express in total?\n",
    "> - What is the last name of the employee with the most orders?\n",
    "> - What product was ordered the most by customers in Germany?\n"
   ]
  },
  {
   "cell_type": "markdown",
   "id": "eleven-rocket",
   "metadata": {},
   "source": [
    "### How many orders were shipped by Speedy Express in total?"
   ]
  },
  {
   "cell_type": "markdown",
   "id": "broadband-ambassador",
   "metadata": {},
   "source": [
    "After exploring the database relationships, we know:  \n",
    "- the Orders table displays the ShipperID for each order\n",
    "- the Shippers table gives us the ShipperID for each shipper name\n",
    "\n",
    "We can therefore join both tables on ShipperID and count the number of order shipped by Speedy Express:"
   ]
  },
  {
   "cell_type": "markdown",
   "id": "delayed-praise",
   "metadata": {},
   "source": [
    "``` mysql\n",
    "SELECT\n",
    "    count(distinct Orders.OrderID) as orders_count\n",
    "    \n",
    "FROM Orders\n",
    "\n",
    "LEFT JOIN Shippers\n",
    "    ON Shippers.ShipperID =  Orders.ShipperID\n",
    "    \n",
    "WHERE Shippers.ShipperName = 'Speedy Express'\n"
   ]
  },
  {
   "cell_type": "markdown",
   "id": "active-float",
   "metadata": {
    "ExecuteTime": {
     "end_time": "2022-05-17T22:34:15.098320Z",
     "start_time": "2022-05-17T22:34:15.093893Z"
    }
   },
   "source": [
    "--> **Speedy Express has shipped 54 orders**"
   ]
  },
  {
   "cell_type": "markdown",
   "id": "above-hampton",
   "metadata": {},
   "source": [
    "### What is the last name of the employee with the most orders?"
   ]
  },
  {
   "cell_type": "markdown",
   "id": "christian-biography",
   "metadata": {},
   "source": [
    "After exploring the database relationships, we know:  \n",
    "- the Employees table displays the last name and EmployeeID for each employee\n",
    "- the Orders table gives us the EmployeeID for each shipper name\n",
    "\n",
    "We can therefore join both tables on EmployeeID, count the number of order for each employee last name, sort values in descending order and limit to the first result."
   ]
  },
  {
   "cell_type": "markdown",
   "id": "filled-liability",
   "metadata": {},
   "source": [
    "``` mysql\n",
    "SELECT\n",
    "\tEmployees.LastName,\n",
    "    count(distinct Orders.OrderID) AS orders_count\n",
    "    \n",
    "FROM Employees\n",
    "\n",
    "LEFT JOIN Orders\n",
    "\tON Orders.EmployeeID = Employees.EmployeeID\n",
    "\n",
    "GROUP BY 1\n",
    "ORDER BY 2 desc\n",
    "LIMIT 1 \n",
    "\n",
    "````\n"
   ]
  },
  {
   "cell_type": "markdown",
   "id": "unlimited-victim",
   "metadata": {},
   "source": [
    "### What product was ordered the most by customers in Germany?"
   ]
  },
  {
   "cell_type": "markdown",
   "id": "comprehensive-title",
   "metadata": {},
   "source": [
    "After exploring the database relationships, we know:  \n",
    "- the OrderDetails table gives the productID and quantity of each product that was ordered for each order.\n",
    "- the Orders table gives the CustomerID for each order.\n",
    "- the Customers table gives the Country and Customer ID for each customer.\n",
    "- the Products table gives the name and ProductID of each product\n",
    "\n",
    "We can therefore join Customers and Orders on CustomerID, join Orders and OrderDetails on OrderID, OrderDetails and Products on ProductID, filter on Customers in Germany only, sum the quantity bought for each product, sort values in a descending order and limit to the first result."
   ]
  },
  {
   "cell_type": "markdown",
   "id": "silent-plaza",
   "metadata": {},
   "source": [
    "``` mysql\n",
    "SELECT\n",
    "\tOrderDetails.ProductID,\n",
    "    Products.ProductName,\n",
    "    sum(OrderDetails.Quantity) as quantity\n",
    "    \n",
    "FROM OrderDetails\n",
    "\n",
    "LEFT JOIN Orders\n",
    "\tON Orders.OrderID = OrderDetails.OrderID\n",
    "   \n",
    "LEFT JOIN Customers\n",
    "\ton Customers.CustomerID = Orders.CustomerID\n",
    "    \n",
    "LEFT JOIN Products\n",
    "\ton Products.ProductID = OrderDetails.ProductID\n",
    "\n",
    "WHERE Customers.country = 'Germany'\n",
    "\n",
    "GROUP BY 1, 2\n",
    "ORDER BY 3 DESC\n",
    "LIMIT 1\n",
    "\n",
    "````\n"
   ]
  },
  {
   "cell_type": "markdown",
   "id": "southern-airfare",
   "metadata": {},
   "source": [
    "--> **The most ordered product by customers in Germany is Boston Crab Meat with 160 items**"
   ]
  }
 ],
 "metadata": {
  "kernelspec": {
   "display_name": "Python 3",
   "language": "python",
   "name": "python3"
  },
  "language_info": {
   "codemirror_mode": {
    "name": "ipython",
    "version": 3
   },
   "file_extension": ".py",
   "mimetype": "text/x-python",
   "name": "python",
   "nbconvert_exporter": "python",
   "pygments_lexer": "ipython3",
   "version": "3.8.6"
  },
  "toc": {
   "base_numbering": 1,
   "nav_menu": {},
   "number_sections": true,
   "sideBar": true,
   "skip_h1_title": false,
   "title_cell": "Table of Contents",
   "title_sidebar": "Contents",
   "toc_cell": false,
   "toc_position": {},
   "toc_section_display": true,
   "toc_window_display": false
  },
  "varInspector": {
   "cols": {
    "lenName": 16,
    "lenType": 16,
    "lenVar": 40
   },
   "kernels_config": {
    "python": {
     "delete_cmd_postfix": "",
     "delete_cmd_prefix": "del ",
     "library": "var_list.py",
     "varRefreshCmd": "print(var_dic_list())"
    },
    "r": {
     "delete_cmd_postfix": ") ",
     "delete_cmd_prefix": "rm(",
     "library": "var_list.r",
     "varRefreshCmd": "cat(var_dic_list()) "
    }
   },
   "types_to_exclude": [
    "module",
    "function",
    "builtin_function_or_method",
    "instance",
    "_Feature"
   ],
   "window_display": false
  }
 },
 "nbformat": 4,
 "nbformat_minor": 5
}
